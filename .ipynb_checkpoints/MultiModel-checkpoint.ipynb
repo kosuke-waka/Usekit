{
 "cells": [
  {
   "cell_type": "code",
   "execution_count": 12,
   "id": "e38afff2",
   "metadata": {},
   "outputs": [],
   "source": [
    "import os\n",
    "os.environ[\"CUDA_VISIBLE_DEVICES\"] = \"1\"\n",
    "import pandas as pd\n",
    "import  matplotlib.pyplot as plt\n",
    "import matplotlib.pyplot as plt\n",
    "import japanize_matplotlib\n",
    "import numpy as np\n",
    "\n",
    "from sklearn.metrics import accuracy_score,f1_score,recall_score,precision_score\n",
    "from sklearn.metrics import confusion_matrix,roc_curve, roc_auc_score\n",
    "from sklearn.model_selection import KFold\n",
    "\n",
    "import torch\n",
    "from torch.utils.data.dataloader import DataLoader\n",
    "\n",
    "from transformers import AutoTokenizer, AutoModel\n",
    "from transformers import DefaultDataCollator\n",
    "from transformers import Trainer, TrainingArguments\n",
    "from datasets import load_dataset\n",
    "from datasets import Dataset\n",
    "from datasets import DatasetDict\n",
    "import evaluate\n",
    "\n",
    "\n",
    "\n",
    "from InitialParameter import InitialParameter"
   ]
  },
  {
   "cell_type": "code",
   "execution_count": 13,
   "id": "21f18f3d",
   "metadata": {},
   "outputs": [],
   "source": [
    "parameter = InitialParameter()"
   ]
  },
  {
   "cell_type": "code",
   "execution_count": null,
   "id": "0e56d79f",
   "metadata": {},
   "outputs": [],
   "source": []
  },
  {
   "cell_type": "markdown",
   "id": "74eb3c24",
   "metadata": {},
   "source": [
    "# Dataset作成"
   ]
  },
  {
   "cell_type": "code",
   "execution_count": 14,
   "id": "58cb018e",
   "metadata": {
    "scrolled": true
   },
   "outputs": [
    {
     "name": "stderr",
     "output_type": "stream",
     "text": [
      "/home/wakasugi/anaconda3/envs/transformers2023/lib/python3.9/site-packages/transformers/convert_slow_tokenizer.py:446: UserWarning: The sentencepiece tokenizer that you are converting to a fast tokenizer uses the byte fallback option which is not implemented in the fast tokenizers. In practice this means that the fast version of the tokenizer can produce unknown tokens whereas the sentencepiece version would have converted these unknown tokens into a sequence of byte tokens matching the original piece of text.\n",
      "  warnings.warn(\n",
      "Some weights of the model checkpoint at nlp-waseda/roberta-base-japanese were not used when initializing RobertaModel: ['lm_head.bias', 'lm_head.layer_norm.weight', 'lm_head.layer_norm.bias', 'lm_head.dense.bias', 'lm_head.dense.weight']\n",
      "- This IS expected if you are initializing RobertaModel from the checkpoint of a model trained on another task or with another architecture (e.g. initializing a BertForSequenceClassification model from a BertForPreTraining model).\n",
      "- This IS NOT expected if you are initializing RobertaModel from the checkpoint of a model that you expect to be exactly identical (initializing a BertForSequenceClassification model from a BertForSequenceClassification model).\n",
      "Some weights of RobertaModel were not initialized from the model checkpoint at nlp-waseda/roberta-base-japanese and are newly initialized: ['roberta.pooler.dense.bias', 'roberta.pooler.dense.weight']\n",
      "You should probably TRAIN this model on a down-stream task to be able to use it for predictions and inference.\n"
     ]
    }
   ],
   "source": [
    "#データ読み込み\n",
    "for trafile,tesfile, use_tokenize in zip(parameter.train_list, parameter.test_list, parameter.use_model_list):\n",
    "    train_pd = pd.read_excel(os.path.join(parameter.train_data_dir, trafile))\n",
    "    train_dataset = Dataset.from_pandas(train_pd)\n",
    "    \n",
    "    test_pd = pd.read_excel(os.path.join(parameter.test_data_dir, tesfile))\n",
    "    test_dataset = Dataset.from_pandas(test_pd)\n",
    "    \n",
    "    tokenizer = AutoTokenizer.from_pretrained(use_tokenize)\n",
    "    model = AutoModel.from_pretrained(use_tokenize)\n",
    "    break"
   ]
  },
  {
   "cell_type": "code",
   "execution_count": 25,
   "id": "bca8ae62",
   "metadata": {},
   "outputs": [
    {
     "data": {
      "text/html": [
       "<div>\n",
       "<style scoped>\n",
       "    .dataframe tbody tr th:only-of-type {\n",
       "        vertical-align: middle;\n",
       "    }\n",
       "\n",
       "    .dataframe tbody tr th {\n",
       "        vertical-align: top;\n",
       "    }\n",
       "\n",
       "    .dataframe thead th {\n",
       "        text-align: right;\n",
       "    }\n",
       "</style>\n",
       "<table border=\"1\" class=\"dataframe\">\n",
       "  <thead>\n",
       "    <tr style=\"text-align: right;\">\n",
       "      <th></th>\n",
       "      <th>ツイート</th>\n",
       "      <th>判定結果</th>\n",
       "    </tr>\n",
       "  </thead>\n",
       "  <tbody>\n",
       "    <tr>\n",
       "      <th>0</th>\n",
       "      <td>今日 も 一 日 お 疲れ 様 でした 台風 の 影響 で 離れて る 地域 でも 雨 風 ...</td>\n",
       "      <td>推奨</td>\n",
       "    </tr>\n",
       "    <tr>\n",
       "      <th>1</th>\n",
       "      <td>なんか テレビ の 他人事 感 凄い な とりあえず 南房総 報道 し ときゃ いい んでし...</td>\n",
       "      <td>願望</td>\n",
       "    </tr>\n",
       "    <tr>\n",
       "      <th>2</th>\n",
       "      <td>皆さん 台風 大丈夫 で しか 初めて お家 の 電気 が 少し 消えて びっくり し まし...</td>\n",
       "      <td>励まし</td>\n",
       "    </tr>\n",
       "    <tr>\n",
       "      <th>3</th>\n",
       "      <td>今回 に 台風 は 本当の 悪い 子 が 人 いろんな 迷惑 がって る 反省 して ほしい</td>\n",
       "      <td>願望</td>\n",
       "    </tr>\n",
       "    <tr>\n",
       "      <th>4</th>\n",
       "      <td>台風 号 被害 を られた 方々 に 心 より お 見舞い 申し上げ ます さん で は を...</td>\n",
       "      <td>願望</td>\n",
       "    </tr>\n",
       "    <tr>\n",
       "      <th>...</th>\n",
       "      <td>...</td>\n",
       "      <td>...</td>\n",
       "    </tr>\n",
       "    <tr>\n",
       "      <th>12966</th>\n",
       "      <td>台風 台風 な のです 低 気圧 が 気 を 付けて ください ませ</td>\n",
       "      <td>推奨</td>\n",
       "    </tr>\n",
       "    <tr>\n",
       "      <th>12967</th>\n",
       "      <td>通電 火災 知って る 去年 の 台風 の 時 一応 電気 屋 さんや から 会社 の 人 ...</td>\n",
       "      <td>推奨</td>\n",
       "    </tr>\n",
       "    <tr>\n",
       "      <th>12968</th>\n",
       "      <td>お は シグ ねー ⊃ アワアワ 今日 一体 育祭 ので 休み です が 吹奏 楽部 に 休...</td>\n",
       "      <td>推奨|励まし</td>\n",
       "    </tr>\n",
       "    <tr>\n",
       "      <th>12969</th>\n",
       "      <td>台風 も 来て ます しお気 を つけて お 帰り 下さい ませ ゚ Д ゚</td>\n",
       "      <td>推奨</td>\n",
       "    </tr>\n",
       "    <tr>\n",
       "      <th>12970</th>\n",
       "      <td>今日 は 祝日 素敵な お 休み を 満喫 する に は 座 で ショー を 楽しみ お 酒...</td>\n",
       "      <td>推奨</td>\n",
       "    </tr>\n",
       "  </tbody>\n",
       "</table>\n",
       "<p>12971 rows × 2 columns</p>\n",
       "</div>"
      ],
      "text/plain": [
       "                                                    ツイート    判定結果\n",
       "0      今日 も 一 日 お 疲れ 様 でした 台風 の 影響 で 離れて る 地域 でも 雨 風 ...      推奨\n",
       "1      なんか テレビ の 他人事 感 凄い な とりあえず 南房総 報道 し ときゃ いい んでし...      願望\n",
       "2      皆さん 台風 大丈夫 で しか 初めて お家 の 電気 が 少し 消えて びっくり し まし...     励まし\n",
       "3         今回 に 台風 は 本当の 悪い 子 が 人 いろんな 迷惑 がって る 反省 して ほしい      願望\n",
       "4      台風 号 被害 を られた 方々 に 心 より お 見舞い 申し上げ ます さん で は を...      願望\n",
       "...                                                  ...     ...\n",
       "12966                 台風 台風 な のです 低 気圧 が 気 を 付けて ください ませ      推奨\n",
       "12967  通電 火災 知って る 去年 の 台風 の 時 一応 電気 屋 さんや から 会社 の 人 ...      推奨\n",
       "12968  お は シグ ねー ⊃ アワアワ 今日 一体 育祭 ので 休み です が 吹奏 楽部 に 休...  推奨|励まし\n",
       "12969             台風 も 来て ます しお気 を つけて お 帰り 下さい ませ ゚ Д ゚      推奨\n",
       "12970  今日 は 祝日 素敵な お 休み を 満喫 する に は 座 で ショー を 楽しみ お 酒...      推奨\n",
       "\n",
       "[12971 rows x 2 columns]"
      ]
     },
     "execution_count": 25,
     "metadata": {},
     "output_type": "execute_result"
    }
   ],
   "source": [
    "train_pd"
   ]
  },
  {
   "cell_type": "code",
   "execution_count": 26,
   "id": "9fb0b3cd",
   "metadata": {},
   "outputs": [],
   "source": [
    "dataset = DatasetDict({\n",
    "    \"train\": train_dataset,\n",
    "    \"test\": test_dataset,\n",
    "})"
   ]
  },
  {
   "cell_type": "code",
   "execution_count": 95,
   "id": "868160af",
   "metadata": {
    "scrolled": true
   },
   "outputs": [
    {
     "data": {
      "application/vnd.jupyter.widget-view+json": {
       "model_id": "",
       "version_major": 2,
       "version_minor": 0
      },
      "text/plain": [
       "Map:   0%|          | 0/12971 [00:00<?, ? examples/s]"
      ]
     },
     "metadata": {},
     "output_type": "display_data"
    },
    {
     "data": {
      "application/vnd.jupyter.widget-view+json": {
       "model_id": "",
       "version_major": 2,
       "version_minor": 0
      },
      "text/plain": [
       "Map:   0%|          | 0/3243 [00:00<?, ? examples/s]"
      ]
     },
     "metadata": {},
     "output_type": "display_data"
    },
    {
     "name": "stdout",
     "output_type": "stream",
     "text": [
      "{'ツイート': '今日 も 日 お疲れさま そちら 東京 は 台風 が 近付いて きて い ます ね 明日 から 明後日 に かけて 影響 が 出て くる の か な くれぐれも お 気 を つけて ください な ラベル を 取って から 飲み ます よ 萌花 さん 鈴木 萌花 さん 流 ーの 飲み 方 次回 遠征 拝見', '判定結果': '推奨', 'input_ids': [2, 2278, 284, 286, 431, 31743, 1104, 9181, 18720, 364, 391, 265, 4135, 268, 28821, 1602, 3570, 398, 533, 1626, 9240, 285, 1731, 3252, 2177, 263, 733, 635, 268, 1786, 1814, 261, 343, 528, 6496, 23963, 1717, 431, 1559, 266, 5068, 3596, 528, 15761, 266, 5240, 285, 7628, 533, 1303, 18466, 2852, 1148, 2911, 18466, 2852, 1148, 1490, 275, 638, 353, 7628, 647, 12574, 3861, 9435, 1575, 3, 0, 0, 0, 0, 0, 0, 0, 0, 0, 0, 0, 0, 0, 0, 0, 0, 0, 0, 0, 0, 0, 0, 0, 0, 0, 0, 0, 0, 0, 0, 0, 0, 0, 0, 0, 0, 0, 0, 0, 0, 0, 0, 0, 0, 0, 0, 0, 0, 0, 0, 0, 0, 0, 0, 0, 0, 0, 0, 0, 0, 0, 0, 0, 0, 0, 0, 0, 0, 0, 0, 0, 0, 0, 0, 0, 0, 0, 0, 0, 0, 0, 0, 0, 0, 0, 0, 0, 0, 0, 0, 0, 0, 0, 0, 0, 0, 0, 0, 0, 0, 0, 0, 0, 0, 0, 0, 0, 0, 0, 0, 0, 0, 0, 0, 0, 0, 0, 0, 0, 0, 0, 0, 0, 0, 0, 0, 0, 0, 0, 0, 0, 0, 0, 0, 0, 0, 0, 0, 0, 0, 0, 0, 0, 0, 0, 0, 0, 0, 0, 0, 0, 0, 0, 0, 0, 0, 0, 0, 0, 0, 0, 0, 0, 0, 0, 0, 0, 0, 0, 0, 0, 0, 0, 0, 0, 0, 0, 0, 0, 0, 0, 0, 0, 0, 0, 0, 0, 0], 'token_type_ids': [0, 0, 0, 0, 0, 0, 0, 0, 0, 0, 0, 0, 0, 0, 0, 0, 0, 0, 0, 0, 0, 0, 0, 0, 0, 0, 0, 0, 0, 0, 0, 0, 0, 0, 0, 0, 0, 0, 0, 0, 0, 0, 0, 0, 0, 0, 0, 0, 0, 0, 0, 0, 0, 0, 0, 0, 0, 0, 0, 0, 0, 0, 0, 0, 0, 0, 0, 0, 0, 0, 0, 0, 0, 0, 0, 0, 0, 0, 0, 0, 0, 0, 0, 0, 0, 0, 0, 0, 0, 0, 0, 0, 0, 0, 0, 0, 0, 0, 0, 0, 0, 0, 0, 0, 0, 0, 0, 0, 0, 0, 0, 0, 0, 0, 0, 0, 0, 0, 0, 0, 0, 0, 0, 0, 0, 0, 0, 0, 0, 0, 0, 0, 0, 0, 0, 0, 0, 0, 0, 0, 0, 0, 0, 0, 0, 0, 0, 0, 0, 0, 0, 0, 0, 0, 0, 0, 0, 0, 0, 0, 0, 0, 0, 0, 0, 0, 0, 0, 0, 0, 0, 0, 0, 0, 0, 0, 0, 0, 0, 0, 0, 0, 0, 0, 0, 0, 0, 0, 0, 0, 0, 0, 0, 0, 0, 0, 0, 0, 0, 0, 0, 0, 0, 0, 0, 0, 0, 0, 0, 0, 0, 0, 0, 0, 0, 0, 0, 0, 0, 0, 0, 0, 0, 0, 0, 0, 0, 0, 0, 0, 0, 0, 0, 0, 0, 0, 0, 0, 0, 0, 0, 0, 0, 0, 0, 0, 0, 0, 0, 0, 0, 0, 0, 0, 0, 0], 'attention_mask': [1, 1, 1, 1, 1, 1, 1, 1, 1, 1, 1, 1, 1, 1, 1, 1, 1, 1, 1, 1, 1, 1, 1, 1, 1, 1, 1, 1, 1, 1, 1, 1, 1, 1, 1, 1, 1, 1, 1, 1, 1, 1, 1, 1, 1, 1, 1, 1, 1, 1, 1, 1, 1, 1, 1, 1, 1, 1, 1, 1, 1, 1, 1, 1, 1, 1, 1, 1, 0, 0, 0, 0, 0, 0, 0, 0, 0, 0, 0, 0, 0, 0, 0, 0, 0, 0, 0, 0, 0, 0, 0, 0, 0, 0, 0, 0, 0, 0, 0, 0, 0, 0, 0, 0, 0, 0, 0, 0, 0, 0, 0, 0, 0, 0, 0, 0, 0, 0, 0, 0, 0, 0, 0, 0, 0, 0, 0, 0, 0, 0, 0, 0, 0, 0, 0, 0, 0, 0, 0, 0, 0, 0, 0, 0, 0, 0, 0, 0, 0, 0, 0, 0, 0, 0, 0, 0, 0, 0, 0, 0, 0, 0, 0, 0, 0, 0, 0, 0, 0, 0, 0, 0, 0, 0, 0, 0, 0, 0, 0, 0, 0, 0, 0, 0, 0, 0, 0, 0, 0, 0, 0, 0, 0, 0, 0, 0, 0, 0, 0, 0, 0, 0, 0, 0, 0, 0, 0, 0, 0, 0, 0, 0, 0, 0, 0, 0, 0, 0, 0, 0, 0, 0, 0, 0, 0, 0, 0, 0, 0, 0, 0, 0, 0, 0, 0, 0, 0, 0, 0, 0, 0, 0, 0, 0, 0, 0, 0, 0, 0, 0, 0, 0, 0, 0, 0, 0], 'labels': [1.0, 0.0, 0.0, 0.0]}\n"
     ]
    },
    {
     "data": {
      "text/plain": [
       "DatasetDict({\n",
       "    train: Dataset({\n",
       "        features: ['ツイート', '判定結果', 'input_ids', 'token_type_ids', 'attention_mask', 'labels'],\n",
       "        num_rows: 12971\n",
       "    })\n",
       "    test: Dataset({\n",
       "        features: ['ツイート', '判定結果', 'input_ids', 'token_type_ids', 'attention_mask', 'labels'],\n",
       "        num_rows: 3243\n",
       "    })\n",
       "})"
      ]
     },
     "execution_count": 95,
     "metadata": {},
     "output_type": "execute_result"
    }
   ],
   "source": [
    "def processing(example):\n",
    "    tokenized = tokenizer(example[parameter.text_column_name], max_length=parameter.max_length, truncation=True, padding=\"max_length\")\n",
    "    judges = example[parameter.label_column_name] #判定結果を取り出す\n",
    "    #judges = judges.split('|')\n",
    "\n",
    "    labels = []\n",
    "    for idx in range(len(judges)):\n",
    "        dummy_label = [] #ラベルのダミー列を取得\n",
    "        judge = judges[idx].split('|')\n",
    "        for label in parameter.label_list:\n",
    "            if label in judge:\n",
    "                dummy_label.append(1.0)\n",
    "            else:\n",
    "                dummy_label.append(0.0)\n",
    "        labels.append(dummy_label)\n",
    "    tokenized['labels'] = labels\n",
    "        \n",
    "        #tokenized = {k: torch.tensor(v).to(parameter.device) for k, v in tokenized.items()}\n",
    "    return tokenized\n",
    "dataset_tokenized = dataset.map(processing,batched=True)\n",
    "print(dataset_tokenized['train'][1000])\n",
    "dataset_tokenized"
   ]
  },
  {
   "cell_type": "code",
   "execution_count": 34,
   "id": "4c4c04e4",
   "metadata": {
    "scrolled": true
   },
   "outputs": [],
   "source": [
    "dataset_tokenized = dataset_tokenized.remove_columns([parameter.text_column_name, parameter.label_column_name])\n",
    "\n",
    "dataset_tokenized.set_format(\"torch\")"
   ]
  },
  {
   "cell_type": "markdown",
   "id": "2bd858eb",
   "metadata": {},
   "source": [
    "# モデル作成"
   ]
  },
  {
   "cell_type": "code",
   "execution_count": 11,
   "id": "be29164d",
   "metadata": {},
   "outputs": [],
   "source": [
    "class BertForSequenceClassificationMultiLabel(torch.nn.Module):\n",
    "    def __init__(self, model, num_labels):\n",
    "        super().__init__()\n",
    "        self.model = model\n",
    "        self.linear = torch.nn.linear(\n",
    "            self.model.config.hidden_size, num_labels\n",
    "        )\n",
    "    \n",
    "    def forward(\n",
    "        self,\n",
    "        input_ids = None,\n",
    "        attention_mask = None,\n",
    "        token_type_ids = None,\n",
    "        labels = None,\n",
    "    ):\n",
    "        model_ouptut = self.model(\n",
    "            input_ids,\n",
    "            attention_mask=attention_mask,\n",
    "            token_type_ids=token_type_ids,\n",
    "            labels=labels\n",
    "        )\n",
    "        last_hidden_state = model_ouptut.last_hidden_state\n",
    "        \n",
    "        average_hidden_state = (last_hidden_state * attention_mask.unsqueeze(-1)).sum(1) / attention_mask.sum(1, keepdim=True)\n",
    "        \n",
    "        scores = self.linear(average_hidden_state)\n",
    "        \n",
    "        output = {'logits': scores}\n",
    "        \n",
    "        if labels is not None:\n",
    "            loss = torch.nn.BCEWithLogitsLoss()(scores, labels.float())\n",
    "            output['loss'] = loss\n",
    "            output['label_ids'] = labels\n",
    "        output['predictions'] = average_hidden_state\n",
    "        output = type('prediction',(object,),output)\n",
    "        return output\n",
    "        "
   ]
  },
  {
   "cell_type": "code",
   "execution_count": 14,
   "id": "35af0947",
   "metadata": {
    "scrolled": true
   },
   "outputs": [
    {
     "name": "stderr",
     "output_type": "stream",
     "text": [
      "Some weights of the model checkpoint at nlp-waseda/roberta-base-japanese were not used when initializing RobertaForSequenceClassification: ['lm_head.dense.weight', 'lm_head.layer_norm.bias', 'lm_head.bias', 'lm_head.dense.bias', 'lm_head.layer_norm.weight']\n",
      "- This IS expected if you are initializing RobertaForSequenceClassification from the checkpoint of a model trained on another task or with another architecture (e.g. initializing a BertForSequenceClassification model from a BertForPreTraining model).\n",
      "- This IS NOT expected if you are initializing RobertaForSequenceClassification from the checkpoint of a model that you expect to be exactly identical (initializing a BertForSequenceClassification model from a BertForSequenceClassification model).\n",
      "Some weights of RobertaForSequenceClassification were not initialized from the model checkpoint at nlp-waseda/roberta-base-japanese and are newly initialized: ['classifier.out_proj.bias', 'classifier.dense.weight', 'classifier.out_proj.weight', 'classifier.dense.bias']\n",
      "You should probably TRAIN this model on a down-stream task to be able to use it for predictions and inference.\n"
     ]
    }
   ],
   "source": [
    "from transformers import AutoModelForSequenceClassification\n",
    "modelc = AutoModelForSequenceClassification.from_pretrained(use_tokenize,num_labels=len(parameter.label_list),problem_type = \"multi_label_classification\").to(parameter.device)\n",
    "\n",
    "data_collator = DefaultDataCollator()"
   ]
  },
  {
   "cell_type": "code",
   "execution_count": 118,
   "id": "1075a8fc",
   "metadata": {},
   "outputs": [],
   "source": [
    "def compute_metrics(pred):\n",
    "    labels = pred.label_ids\n",
    "    probability = pred.predictions\n",
    "    preds = np.where(pred.predictions > 0, 1, 0)\n",
    "    f1 = f1_score(labels, preds,average=\"macro\")\n",
    "    acc = accuracy_score(labels, preds)\n",
    "    precision = precision_score(labels, preds,average=\"macro\")\n",
    "    recall = recall_score(labels, preds, average=\"macro\")\n",
    "    \n",
    "    \n",
    "    for idx, label_ in enumerate(parameter.label_list):\n",
    "        fpr, tpr, thresholds = roc_curve(labels[:, idx], probability[:, idx])\n",
    "        auc = roc_auc_score(labels,probability,average=\"macro\")\n",
    "        plt.plot(fpr, tpr, label=f'class: {label_}')\n",
    "        print(f'auc_{label_},== {roc_auc_score(labels[:, idx], probability[:, idx])}')\n",
    "    plt.legend()\n",
    "    plt.show()\n",
    "    \n",
    "    \n",
    "    auc = roc_auc_score(labels,probability,average=\"macro\")\n",
    "    return {\"accuracy\":acc,\"precision\":precision,'recall': recall, \"f1\":f1,\n",
    "            'auc':auc}\n",
    "\n",
    "#citeList = ['test_loss', 'test_accuracy']\n",
    "def figure_show(train_metrics, val_metrics,save_dir=None, save_name='fig', citeList=['test_loss', 'test_accuracy']):\n",
    "    fig, axes = plt.subplots(len(citeList),1,figsize=(8,10))\n",
    "    x = [i for i in range(1,N_split+1)]\n",
    "\n",
    "    for cite,ax in zip(citeList,axes):\n",
    "        tem_tra = []\n",
    "        tem_val = []\n",
    "        for tra,val in zip(train_metrics,val_metrics):\n",
    "            tem_tra.append(tra[cite])\n",
    "            tem_val.append(val[cite])\n",
    "        ax.plot(x,tem_val,label=\"Validation\")\n",
    "        ax.plot(x,tem_tra,label=\"Train\")\n",
    "        ax.set_xlabel('Epoch')\n",
    "        ax.set_ylabel(cite.split('_')[1])\n",
    "        ax.set_title(cite.split('_')[1])\n",
    "        ax.legend(loc=2)\n",
    "        ax.grid()\n",
    "    fig.align_labels()\n",
    "    plt.show()\n",
    "    #fig.savefig(f\"{save_dir}/{os.path.split(save_file)[-1]}.png\", format=\"png\")\n",
    "    if save_dir is not None:\n",
    "        fig.savefig(f\"{save_dir}/fig_{save_name}.png\", format=\"png\")\n",
    "        #fig.savefig(f\"{save_dir}/fig_{os.path.split(save_dir)[-1]}.png\", format=\"png\")\n",
    "    else:\n",
    "        print('NONE')\n",
    "        pass"
   ]
  },
  {
   "cell_type": "code",
   "execution_count": 49,
   "id": "f18a8f09",
   "metadata": {},
   "outputs": [],
   "source": [
    "dataset_train = np.array([{k:v.to(parameter.device) for k, v in data.items()} for data in dataset_tokenized['train']])\n",
    "dataset_test = np.array([{k:v.to(parameter.device) for k, v in data.items()} for data in dataset_tokenized['test']])"
   ]
  },
  {
   "cell_type": "markdown",
   "id": "c9d892a9",
   "metadata": {},
   "source": [
    "# 学習開始"
   ]
  },
  {
   "cell_type": "code",
   "execution_count": 119,
   "id": "71a34d20",
   "metadata": {
    "scrolled": true
   },
   "outputs": [
    {
     "name": "stdout",
     "output_type": "stream",
     "text": [
      "10376\n"
     ]
    },
    {
     "ename": "NameError",
     "evalue": "name 'aall_data' is not defined",
     "output_type": "error",
     "traceback": [
      "\u001b[0;31m---------------------------------------------------------------------------\u001b[0m",
      "\u001b[0;31mNameError\u001b[0m                                 Traceback (most recent call last)",
      "Cell \u001b[0;32mIn [119], line 17\u001b[0m\n\u001b[1;32m      8\u001b[0m     trainer \u001b[38;5;241m=\u001b[39m Trainer(\n\u001b[1;32m      9\u001b[0m         model\u001b[38;5;241m=\u001b[39mmodelc,\n\u001b[1;32m     10\u001b[0m         data_collator \u001b[38;5;241m=\u001b[39m data_collator,\n\u001b[0;32m   (...)\u001b[0m\n\u001b[1;32m     14\u001b[0m         compute_metrics\u001b[38;5;241m=\u001b[39mcompute_metrics,\n\u001b[1;32m     15\u001b[0m     )\n\u001b[1;32m     16\u001b[0m     \u001b[38;5;66;03m#trainer.train()\u001b[39;00m\n\u001b[0;32m---> 17\u001b[0m     train_metrics\u001b[38;5;241m.\u001b[39mappend(trainer\u001b[38;5;241m.\u001b[39mpredict(\u001b[43maall_data\u001b[49m[train])\u001b[38;5;241m.\u001b[39mmetrics)\n\u001b[1;32m     18\u001b[0m     val_metrics\u001b[38;5;241m.\u001b[39mappend(trainer\u001b[38;5;241m.\u001b[39mpredict(aall_data[test])\u001b[38;5;241m.\u001b[39mmetrics)\n\u001b[1;32m     19\u001b[0m model\u001b[38;5;241m.\u001b[39msave_pretrained\n",
      "\u001b[0;31mNameError\u001b[0m: name 'aall_data' is not defined"
     ]
    }
   ],
   "source": [
    "kf = KFold(n_splits=5, shuffle=True, random_state=1)\n",
    "parameter.training_args.num_train_epochs = 1\n",
    "\n",
    "train_metrics = []\n",
    "val_metrics = []\n",
    "for train, test in kf.split(dataset_train):\n",
    "    print(len(train))\n",
    "    trainer = Trainer(\n",
    "        model=modelc,\n",
    "        data_collator = data_collator,\n",
    "        args=parameter.training_args,\n",
    "        train_dataset=dataset_train[train],\n",
    "        eval_dataset=dataset_train[test],\n",
    "        compute_metrics=compute_metrics,\n",
    "    )\n",
    "    #trainer.train()\n",
    "    train_metrics.append(trainer.predict(dataset_train[train]).metrics)\n",
    "    val_metrics.append(trainer.predict(dataset_train[test]).metrics)"
   ]
  },
  {
   "cell_type": "code",
   "execution_count": 120,
   "id": "bf6be31b",
   "metadata": {},
   "outputs": [
    {
     "name": "stderr",
     "output_type": "stream",
     "text": [
      "***** Running Prediction *****\n",
      "  Num examples = 3243\n",
      "  Batch size = 16\n"
     ]
    },
    {
     "data": {
      "text/html": [],
      "text/plain": [
       "<IPython.core.display.HTML object>"
      ]
     },
     "metadata": {},
     "output_type": "display_data"
    },
    {
     "name": "stdout",
     "output_type": "stream",
     "text": [
      "auc_推奨,== 0.9620168734389853\n",
      "auc_行動抑制,== 0.9982382813031818\n",
      "auc_励まし,== 0.9755640255640255\n",
      "auc_願望,== 0.9904408857255832\n"
     ]
    },
    {
     "data": {
      "image/png": "[encoded data removed]",
      "text/plain": [
       "<Figure size 640x480 with 1 Axes>"
      ]
     },
     "metadata": {},
     "output_type": "display_data"
    },
    {
     "data": {
      "text/plain": [
       "PredictionOutput(predictions=array([[ 2.5067115, -6.9330316, -3.2360642, -4.095049 ],\n",
       "       [ 4.1602173,  1.9419556, -5.110614 , -5.278173 ],\n",
       "       [ 3.813549 , -5.68594  , -5.4019327, -5.3943086],\n",
       "       ...,\n",
       "       [ 1.5673428, -7.3178535, -4.9434233, -1.889775 ],\n",
       "       [ 5.6843295, -3.920227 , -5.3974133, -5.0942254],\n",
       "       [-1.9883912, -5.8534737, -5.075929 ,  3.28599  ]], dtype=float32), label_ids=array([[0., 0., 0., 0.],\n",
       "       [1., 1., 0., 0.],\n",
       "       [1., 0., 0., 0.],\n",
       "       ...,\n",
       "       [0., 0., 0., 0.],\n",
       "       [1., 0., 0., 0.],\n",
       "       [0., 0., 0., 1.]], dtype=float32), metrics={'test_loss': 0.12387678027153015, 'test_accuracy': 0.8418131359851989, 'test_precision': 0.9272146962877206, 'test_recall': 0.8897795321257707, 'test_f1': 0.9074122671625189, 'test_auc': 0.9815650165079439, 'test_runtime': 11.2965, 'test_samples_per_second': 287.08, 'test_steps_per_second': 17.97})"
      ]
     },
     "execution_count": 120,
     "metadata": {},
     "output_type": "execute_result"
    }
   ],
   "source": [
    "trainer.predict(dataset_test)"
   ]
  },
  {
   "cell_type": "code",
   "execution_count": 100,
   "id": "c9ad03fb",
   "metadata": {},
   "outputs": [
    {
     "name": "stderr",
     "output_type": "stream",
     "text": [
      "Saving model checkpoint to /home/wakasugi/model_create/MultiFacilitatedAxis/result/sokushin\n",
      "Configuration saved in /home/wakasugi/model_create/MultiFacilitatedAxis/result/sokushin/config.json\n",
      "Model weights saved in /home/wakasugi/model_create/MultiFacilitatedAxis/result/sokushin/pytorch_model.bin\n"
     ]
    }
   ],
   "source": [
    "trainer.save_model(os.path.join(parameter.save_dir, 'sokushin'))"
   ]
  },
  {
   "cell_type": "markdown",
   "id": "89c4325a",
   "metadata": {},
   "source": [
    "# 推論"
   ]
  },
  {
   "cell_type": "code",
   "execution_count": 123,
   "id": "89536394",
   "metadata": {
    "scrolled": true
   },
   "outputs": [
    {
     "name": "stderr",
     "output_type": "stream",
     "text": [
      "loading file spiece.model from cache at /home/wakasugi/.cache/huggingface/hub/models--nlp-waseda--roberta-base-japanese/snapshots/49ce73ecd6eb4dab3c1c06edaaab35892b3cea80/spiece.model\n",
      "loading file tokenizer.json from cache at None\n",
      "loading file added_tokens.json from cache at None\n",
      "loading file special_tokens_map.json from cache at /home/wakasugi/.cache/huggingface/hub/models--nlp-waseda--roberta-base-japanese/snapshots/49ce73ecd6eb4dab3c1c06edaaab35892b3cea80/special_tokens_map.json\n",
      "loading file tokenizer_config.json from cache at /home/wakasugi/.cache/huggingface/hub/models--nlp-waseda--roberta-base-japanese/snapshots/49ce73ecd6eb4dab3c1c06edaaab35892b3cea80/tokenizer_config.json\n",
      "/home/wakasugi/anaconda3/envs/transformers2023/lib/python3.9/site-packages/transformers/convert_slow_tokenizer.py:446: UserWarning: The sentencepiece tokenizer that you are converting to a fast tokenizer uses the byte fallback option which is not implemented in the fast tokenizers. In practice this means that the fast version of the tokenizer can produce unknown tokens whereas the sentencepiece version would have converted these unknown tokens into a sequence of byte tokens matching the original piece of text.\n",
      "  warnings.warn(\n",
      "loading configuration file /home/wakasugi/model_create/MultiFacilitatedAxis/result/sokushin/config.json\n",
      "Model config RobertaConfig {\n",
      "  \"_name_or_path\": \"/home/wakasugi/model_create/MultiFacilitatedAxis/result/sokushin\",\n",
      "  \"architectures\": [\n",
      "    \"RobertaForSequenceClassification\"\n",
      "  ],\n",
      "  \"attention_probs_dropout_prob\": 0.1,\n",
      "  \"bos_token_id\": 2,\n",
      "  \"classifier_dropout\": null,\n",
      "  \"eos_token_id\": 3,\n",
      "  \"hidden_act\": \"gelu\",\n",
      "  \"hidden_dropout_prob\": 0.1,\n",
      "  \"hidden_size\": 768,\n",
      "  \"id2label\": {\n",
      "    \"0\": \"LABEL_0\",\n",
      "    \"1\": \"LABEL_1\",\n",
      "    \"2\": \"LABEL_2\",\n",
      "    \"3\": \"LABEL_3\"\n",
      "  },\n",
      "  \"initializer_range\": 0.02,\n",
      "  \"intermediate_size\": 3072,\n",
      "  \"label2id\": {\n",
      "    \"LABEL_0\": 0,\n",
      "    \"LABEL_1\": 1,\n",
      "    \"LABEL_2\": 2,\n",
      "    \"LABEL_3\": 3\n",
      "  },\n",
      "  \"layer_norm_eps\": 1e-12,\n",
      "  \"max_position_embeddings\": 514,\n",
      "  \"model_type\": \"roberta\",\n",
      "  \"num_attention_heads\": 12,\n",
      "  \"num_hidden_layers\": 12,\n",
      "  \"pad_token_id\": 0,\n",
      "  \"position_embedding_type\": \"absolute\",\n",
      "  \"problem_type\": \"multi_label_classification\",\n",
      "  \"torch_dtype\": \"float32\",\n",
      "  \"transformers_version\": \"4.24.0\",\n",
      "  \"type_vocab_size\": 2,\n",
      "  \"use_cache\": true,\n",
      "  \"vocab_size\": 32000\n",
      "}\n",
      "\n",
      "loading weights file /home/wakasugi/model_create/MultiFacilitatedAxis/result/sokushin/pytorch_model.bin\n",
      "All model checkpoint weights were used when initializing RobertaForSequenceClassification.\n",
      "\n",
      "All the weights of RobertaForSequenceClassification were initialized from the model checkpoint at /home/wakasugi/model_create/MultiFacilitatedAxis/result/sokushin.\n",
      "If your task is similar to the task the model of the checkpoint was trained on, you can already use RobertaForSequenceClassification for predictions without further training.\n"
     ]
    }
   ],
   "source": [
    "tokenzer = AutoTokenizer.from_pretrained(parameter.use_model_list[0])\n",
    "modelc = AutoModelForSequenceClassification.from_pretrained(os.path.join(parameter.save_dir, 'sokushin')).to(parameter.device)"
   ]
  },
  {
   "cell_type": "code",
   "execution_count": 124,
   "id": "d684a1eb",
   "metadata": {
    "scrolled": true
   },
   "outputs": [
    {
     "name": "stdout",
     "output_type": "stream",
     "text": [
      "['推奨', '行動抑制']\n",
      "['推奨', '願望']\n",
      "[]\n",
      "['推奨', '励まし']\n",
      "['行動抑制']\n"
     ]
    }
   ],
   "source": [
    "def inference(texts:list[str], tokenizer_=tokenizer, model_=modelc):\n",
    "    for text in texts:\n",
    "        t_tokenize = tokenizer_(text, max_length=parameter.max_length, truncation=True, padding=\"max_length\", return_tensors='pt').to(parameter.device)\n",
    "        #print(t_tokenize)\n",
    "        with torch.no_grad():\n",
    "            output = model_(**t_tokenize).logits\n",
    "        #print(output)\n",
    "        preds = torch.where(output > 0, 1, 0)\n",
    "        #print(preds)\n",
    "        print([[parameter.label_list[idx] for idx in range(len(pred)) if pred[idx] == 1] for pred in preds][0])\n",
    "inference(['前線と台風のセットは大雨になりやすいパターン。冠水しやすい道路、土がむき出しの斜面、川や海・池など水辺は避けて、マンホールや側溝にも気をつけて。竜巻や雷に備えた行動も思い出して下さいね。',\n",
    "          'なっちゃん まさか 颶風 号 が こんなに 影響 及ぼす と は ねー お ウォーター と か 諸々 買物 お 疲れ 様 でした この後 バス 気 を つけて 帰国 てね 早く 住 家 の 方 も 復旧 し 落ち着き ます ように 人',\n",
    "          '台風 怖い けど お ハム さん 達 みたいに みんな と 一緒に いたら 安心です ね',\n",
    "          'おはよう ございます よう の ログイン 画面 連打 ちゃ って スクショ でき なかった 笑 秋 もう です ね 台風 も 去って ちょっと 肌寒い かも しれ ませ ん ね し 風邪 ひか ない プロセカ に 気 を つけて ね 今日 も 一 日 頑張り ましょ ́ ノプロセカ',\n",
    "           '市民 協働 課 防災 担当 です 令和 月日 時分 台風 号 接近 に 伴い 大阪 市 大雨 暴風 が 発表 さ れ まし 今後 も 風 や 雨 が 強まり 落雷 する こと も あり ます ので 不要な 外出 は 控える よう お 願い し ます 協働 課',\n",
    "          ])"
   ]
  },
  {
   "cell_type": "code",
   "execution_count": null,
   "id": "516bc152",
   "metadata": {},
   "outputs": [],
   "source": []
  },
  {
   "cell_type": "code",
   "execution_count": null,
   "id": "08cc854f",
   "metadata": {},
   "outputs": [],
   "source": []
  },
  {
   "cell_type": "markdown",
   "id": "d3eca6d7",
   "metadata": {},
   "source": [
    "PredictionOutput(predictions=array([[ 0.04170038, -3.7668915 , -1.486596  , -1.248169  ],\n",
    "       [ 1.3677144 ,  0.720794  , -3.1399653 , -2.5168984 ],\n",
    "       [ 2.0110874 , -2.7480996 , -3.1586976 , -2.693866  ],\n",
    "       ...,\n",
    "       [-0.74171925, -2.93097   , -3.106825  ,  1.5284041 ],\n",
    "       [ 2.6738646 , -1.0764515 , -3.4657722 , -2.9998314 ],\n",
    "       [ 0.18142688, -3.1702743 , -2.9269063 , -1.1237792 ]],\n",
    "      dtype=float32), label_ids=array([[0., 0., 0., 0.],\n",
    "       [1., 1., 0., 0.],\n",
    "       [1., 0., 0., 0.],\n",
    "       ...,\n",
    "       [0., 0., 0., 0.],\n",
    "       [1., 0., 0., 0.],\n",
    "       [0., 0., 0., 1.]], dtype=float32), metrics={'test_loss': 0.22486577928066254, 'test_runtime': 22.0246, 'test_samples_per_second': 147.245, 'test_steps_per_second': 9.217})"
   ]
  },
  {
   "cell_type": "markdown",
   "id": "5c961b79",
   "metadata": {},
   "source": [
    "# 閾値決定"
   ]
  },
  {
   "cell_type": "code",
   "execution_count": null,
   "id": "92f4083f",
   "metadata": {},
   "outputs": [],
   "source": [
    "from sklearn.metrics import precision_recall_curve, roc_curve"
   ]
  },
  {
   "cell_type": "code",
   "execution_count": null,
   "id": "23fe498f",
   "metadata": {},
   "outputs": [],
   "source": [
    "precision[i], recall[i], _ = precision_recall_curve(y_test[:, i],y_score[:, i])"
   ]
  },
  {
   "cell_type": "code",
   "execution_count": null,
   "id": "830797f2",
   "metadata": {},
   "outputs": [],
   "source": []
  },
  {
   "cell_type": "markdown",
   "id": "0ee122ef",
   "metadata": {},
   "source": [
    "# メモ"
   ]
  },
  {
   "cell_type": "code",
   "execution_count": 95,
   "id": "6f85f39f",
   "metadata": {},
   "outputs": [
    {
     "name": "stderr",
     "output_type": "stream",
     "text": [
      "loading configuration file config.json from cache at /home/wakasugi/.cache/huggingface/hub/models--nlp-waseda--roberta-base-japanese/snapshots/49ce73ecd6eb4dab3c1c06edaaab35892b3cea80/config.json\n",
      "Model config RobertaConfig {\n",
      "  \"_name_or_path\": \"nlp-waseda/roberta-base-japanese\",\n",
      "  \"architectures\": [\n",
      "    \"RobertaForMaskedLM\"\n",
      "  ],\n",
      "  \"attention_probs_dropout_prob\": 0.1,\n",
      "  \"bos_token_id\": 2,\n",
      "  \"classifier_dropout\": null,\n",
      "  \"eos_token_id\": 3,\n",
      "  \"hidden_act\": \"gelu\",\n",
      "  \"hidden_dropout_prob\": 0.1,\n",
      "  \"hidden_size\": 768,\n",
      "  \"id2label\": {\n",
      "    \"0\": \"LABEL_0\",\n",
      "    \"1\": \"LABEL_1\",\n",
      "    \"2\": \"LABEL_2\",\n",
      "    \"3\": \"LABEL_3\"\n",
      "  },\n",
      "  \"initializer_range\": 0.02,\n",
      "  \"intermediate_size\": 3072,\n",
      "  \"label2id\": {\n",
      "    \"LABEL_0\": 0,\n",
      "    \"LABEL_1\": 1,\n",
      "    \"LABEL_2\": 2,\n",
      "    \"LABEL_3\": 3\n",
      "  },\n",
      "  \"layer_norm_eps\": 1e-12,\n",
      "  \"max_position_embeddings\": 514,\n",
      "  \"model_type\": \"roberta\",\n",
      "  \"num_attention_heads\": 12,\n",
      "  \"num_hidden_layers\": 12,\n",
      "  \"pad_token_id\": 0,\n",
      "  \"position_embedding_type\": \"absolute\",\n",
      "  \"problem_type\": \"multi_label_classification\",\n",
      "  \"torch_dtype\": \"float32\",\n",
      "  \"transformers_version\": \"4.24.0\",\n",
      "  \"type_vocab_size\": 2,\n",
      "  \"use_cache\": true,\n",
      "  \"vocab_size\": 32000\n",
      "}\n",
      "\n",
      "loading weights file pytorch_model.bin from cache at /home/wakasugi/.cache/huggingface/hub/models--nlp-waseda--roberta-base-japanese/snapshots/49ce73ecd6eb4dab3c1c06edaaab35892b3cea80/pytorch_model.bin\n",
      "Some weights of the model checkpoint at nlp-waseda/roberta-base-japanese were not used when initializing RobertaForSequenceClassification: ['lm_head.dense.weight', 'lm_head.layer_norm.bias', 'lm_head.bias', 'lm_head.dense.bias', 'lm_head.layer_norm.weight']\n",
      "- This IS expected if you are initializing RobertaForSequenceClassification from the checkpoint of a model trained on another task or with another architecture (e.g. initializing a BertForSequenceClassification model from a BertForPreTraining model).\n",
      "- This IS NOT expected if you are initializing RobertaForSequenceClassification from the checkpoint of a model that you expect to be exactly identical (initializing a BertForSequenceClassification model from a BertForSequenceClassification model).\n",
      "Some weights of RobertaForSequenceClassification were not initialized from the model checkpoint at nlp-waseda/roberta-base-japanese and are newly initialized: ['classifier.out_proj.weight', 'classifier.dense.weight', 'classifier.out_proj.bias', 'classifier.dense.bias']\n",
      "You should probably TRAIN this model on a down-stream task to be able to use it for predictions and inference.\n"
     ]
    },
    {
     "name": "stdout",
     "output_type": "stream",
     "text": [
      "{'input_ids': tensor([[    2,   294, 27128, 16414, 15843,  3228,  4135,   268,  1829,   263,\n",
      "           284, 22415,   311,   275,   341,   285,  1559,   266,  5068,  1626,\n",
      "          1860,   286,  5357,   269,  2369, 13850,   276, 19384, 13990,  5170,\n",
      "          3008, 11799,  7053,   769,   284,  3259,  1387,  1303, 25607,     3,\n",
      "             0,     0,     0,     0,     0,     0,     0,     0,     0,     0,\n",
      "             0,     0,     0,     0,     0,     0,     0,     0,     0,     0,\n",
      "             0,     0,     0,     0,     0,     0,     0,     0,     0,     0,\n",
      "             0,     0,     0,     0,     0,     0,     0,     0,     0,     0,\n",
      "             0,     0,     0,     0,     0,     0,     0,     0,     0,     0,\n",
      "             0,     0,     0,     0,     0,     0,     0,     0,     0,     0,\n",
      "             0,     0,     0,     0,     0,     0,     0,     0,     0,     0,\n",
      "             0,     0,     0,     0,     0,     0,     0,     0,     0,     0,\n",
      "             0,     0,     0,     0,     0,     0,     0,     0,     0,     0,\n",
      "             0,     0,     0,     0,     0,     0,     0,     0,     0,     0,\n",
      "             0,     0,     0,     0,     0,     0,     0,     0,     0,     0,\n",
      "             0,     0,     0,     0,     0,     0,     0,     0,     0,     0,\n",
      "             0,     0,     0,     0,     0,     0,     0,     0,     0,     0,\n",
      "             0,     0,     0,     0,     0,     0,     0,     0,     0,     0,\n",
      "             0,     0,     0,     0,     0,     0,     0,     0,     0,     0,\n",
      "             0,     0,     0,     0,     0,     0,     0,     0,     0,     0,\n",
      "             0,     0,     0,     0,     0,     0,     0,     0,     0,     0,\n",
      "             0,     0,     0,     0,     0,     0,     0,     0,     0,     0,\n",
      "             0,     0,     0,     0,     0,     0,     0,     0,     0,     0,\n",
      "             0,     0,     0,     0,     0,     0,     0,     0,     0,     0,\n",
      "             0,     0,     0,     0,     0,     0,     0,     0,     0,     0,\n",
      "             0,     0,     0,     0,     0,     0]], device='cuda:0'), 'token_type_ids': tensor([[0, 0, 0, 0, 0, 0, 0, 0, 0, 0, 0, 0, 0, 0, 0, 0, 0, 0, 0, 0, 0, 0, 0, 0,\n",
      "         0, 0, 0, 0, 0, 0, 0, 0, 0, 0, 0, 0, 0, 0, 0, 0, 0, 0, 0, 0, 0, 0, 0, 0,\n",
      "         0, 0, 0, 0, 0, 0, 0, 0, 0, 0, 0, 0, 0, 0, 0, 0, 0, 0, 0, 0, 0, 0, 0, 0,\n",
      "         0, 0, 0, 0, 0, 0, 0, 0, 0, 0, 0, 0, 0, 0, 0, 0, 0, 0, 0, 0, 0, 0, 0, 0,\n",
      "         0, 0, 0, 0, 0, 0, 0, 0, 0, 0, 0, 0, 0, 0, 0, 0, 0, 0, 0, 0, 0, 0, 0, 0,\n",
      "         0, 0, 0, 0, 0, 0, 0, 0, 0, 0, 0, 0, 0, 0, 0, 0, 0, 0, 0, 0, 0, 0, 0, 0,\n",
      "         0, 0, 0, 0, 0, 0, 0, 0, 0, 0, 0, 0, 0, 0, 0, 0, 0, 0, 0, 0, 0, 0, 0, 0,\n",
      "         0, 0, 0, 0, 0, 0, 0, 0, 0, 0, 0, 0, 0, 0, 0, 0, 0, 0, 0, 0, 0, 0, 0, 0,\n",
      "         0, 0, 0, 0, 0, 0, 0, 0, 0, 0, 0, 0, 0, 0, 0, 0, 0, 0, 0, 0, 0, 0, 0, 0,\n",
      "         0, 0, 0, 0, 0, 0, 0, 0, 0, 0, 0, 0, 0, 0, 0, 0, 0, 0, 0, 0, 0, 0, 0, 0,\n",
      "         0, 0, 0, 0, 0, 0, 0, 0, 0, 0, 0, 0, 0, 0, 0, 0]], device='cuda:0'), 'attention_mask': tensor([[1, 1, 1, 1, 1, 1, 1, 1, 1, 1, 1, 1, 1, 1, 1, 1, 1, 1, 1, 1, 1, 1, 1, 1,\n",
      "         1, 1, 1, 1, 1, 1, 1, 1, 1, 1, 1, 1, 1, 1, 1, 1, 0, 0, 0, 0, 0, 0, 0, 0,\n",
      "         0, 0, 0, 0, 0, 0, 0, 0, 0, 0, 0, 0, 0, 0, 0, 0, 0, 0, 0, 0, 0, 0, 0, 0,\n",
      "         0, 0, 0, 0, 0, 0, 0, 0, 0, 0, 0, 0, 0, 0, 0, 0, 0, 0, 0, 0, 0, 0, 0, 0,\n",
      "         0, 0, 0, 0, 0, 0, 0, 0, 0, 0, 0, 0, 0, 0, 0, 0, 0, 0, 0, 0, 0, 0, 0, 0,\n",
      "         0, 0, 0, 0, 0, 0, 0, 0, 0, 0, 0, 0, 0, 0, 0, 0, 0, 0, 0, 0, 0, 0, 0, 0,\n",
      "         0, 0, 0, 0, 0, 0, 0, 0, 0, 0, 0, 0, 0, 0, 0, 0, 0, 0, 0, 0, 0, 0, 0, 0,\n",
      "         0, 0, 0, 0, 0, 0, 0, 0, 0, 0, 0, 0, 0, 0, 0, 0, 0, 0, 0, 0, 0, 0, 0, 0,\n",
      "         0, 0, 0, 0, 0, 0, 0, 0, 0, 0, 0, 0, 0, 0, 0, 0, 0, 0, 0, 0, 0, 0, 0, 0,\n",
      "         0, 0, 0, 0, 0, 0, 0, 0, 0, 0, 0, 0, 0, 0, 0, 0, 0, 0, 0, 0, 0, 0, 0, 0,\n",
      "         0, 0, 0, 0, 0, 0, 0, 0, 0, 0, 0, 0, 0, 0, 0, 0]], device='cuda:0'), 'labels': tensor([[1., 0., 0., 0.]], device='cuda:0')}\n"
     ]
    },
    {
     "data": {
      "text/plain": [
       "SequenceClassifierOutput(loss=tensor(0.6838, device='cuda:0'), logits=tensor([[-0.0956, -0.1848,  0.2386, -0.2670]], device='cuda:0'), hidden_states=None, attentions=None)"
      ]
     },
     "execution_count": 95,
     "metadata": {},
     "output_type": "execute_result"
    }
   ],
   "source": [
    "modelc = AutoModelForSequenceClassification.from_pretrained(use_tokenize,num_labels=4,problem_type = \"multi_label_classification\").to(parameter.device)\n",
    "tokenized = {k: torch.tensor(v).unsqueeze(0).to(parameter.device) for k, v in dataset_tokenized['train'][10].items()}\n",
    "tokenized['labels'] = tokenized['labels'].float()\n",
    "#train_dataloader = DataLoader(dataset_tokenized['train'], shuffle=True, batch_size=16,collate_fn=coll)\n",
    "print(tokenized)\n",
    "with torch.no_grad():\n",
    "    output = modelc(**tokenized)\n",
    "output"
   ]
  },
  {
   "cell_type": "code",
   "execution_count": null,
   "id": "afeb16a8",
   "metadata": {},
   "outputs": [],
   "source": []
  },
  {
   "cell_type": "code",
   "execution_count": null,
   "id": "40067d81",
   "metadata": {},
   "outputs": [],
   "source": []
  },
  {
   "cell_type": "code",
   "execution_count": null,
   "id": "00410aa5",
   "metadata": {},
   "outputs": [],
   "source": []
  }
 ],
 "metadata": {
  "kernelspec": {
   "display_name": "Python 3 (ipykernel)",
   "language": "python",
   "name": "python3"
  },
  "language_info": {
   "codemirror_mode": {
    "name": "ipython",
    "version": 3
   },
   "file_extension": ".py",
   "mimetype": "text/x-python",
   "name": "python",
   "nbconvert_exporter": "python",
   "pygments_lexer": "ipython3",
   "version": "3.9.13"
  }
 },
 "nbformat": 4,
 "nbformat_minor": 5
}
